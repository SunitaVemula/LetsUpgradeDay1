{
 "cells": [
  {
   "cell_type": "code",
   "execution_count": null,
   "metadata": {},
   "outputs": [],
   "source": [
    "# Dictionary and its default functions\n"
   ]
  },
  {
   "cell_type": "code",
   "execution_count": 1,
   "metadata": {},
   "outputs": [
    {
     "name": "stdout",
     "output_type": "stream",
     "text": [
      "{'Maharashtra': 'Mumbai', 'Telangana': 'Hyderabad', 'Tamilnadu': 'Chennai', 'Karnataka': 'Banglore'}\n"
     ]
    }
   ],
   "source": [
    "stateCapitals={'Maharashtra':'Mumbai', 'Telangana':'Hyderabad', 'Tamilnadu':'Chennai', 'Karnataka':'Banglore'}\n",
    "print(stateCapitals)"
   ]
  },
  {
   "cell_type": "code",
   "execution_count": 2,
   "metadata": {},
   "outputs": [
    {
     "name": "stdout",
     "output_type": "stream",
     "text": [
      "Hyderabad\n"
     ]
    }
   ],
   "source": [
    "print(stateCapitals.get('Telangana'))\n"
   ]
  },
  {
   "cell_type": "code",
   "execution_count": 3,
   "metadata": {},
   "outputs": [
    {
     "name": "stdout",
     "output_type": "stream",
     "text": [
      "dict_items([('Maharashtra', 'Mumbai'), ('Telangana', 'Hyderabad'), ('Tamilnadu', 'Chennai'), ('Karnataka', 'Banglore')])\n"
     ]
    }
   ],
   "source": [
    "print(stateCapitals.items())"
   ]
  },
  {
   "cell_type": "code",
   "execution_count": 4,
   "metadata": {},
   "outputs": [
    {
     "name": "stdout",
     "output_type": "stream",
     "text": [
      "dict_keys(['Maharashtra', 'Telangana', 'Tamilnadu', 'Karnataka'])\n"
     ]
    }
   ],
   "source": [
    "print(stateCapitals.keys())"
   ]
  },
  {
   "cell_type": "code",
   "execution_count": 6,
   "metadata": {},
   "outputs": [
    {
     "name": "stdout",
     "output_type": "stream",
     "text": [
      "{'Maharashtra': 'Mumbai', 'Telangana': 'Hyderabad', 'Karnataka': 'Banglore'}\n"
     ]
    }
   ],
   "source": [
    "stateCapitals.pop('Tamilnadu')\n",
    "print(stateCapitals)"
   ]
  },
  {
   "cell_type": "code",
   "execution_count": 7,
   "metadata": {},
   "outputs": [
    {
     "name": "stdout",
     "output_type": "stream",
     "text": [
      "('Karnataka', 'Banglore')\n"
     ]
    }
   ],
   "source": [
    "print(stateCapitals.popitem())"
   ]
  },
  {
   "cell_type": "code",
   "execution_count": 8,
   "metadata": {},
   "outputs": [
    {
     "name": "stdout",
     "output_type": "stream",
     "text": [
      "{'Maharashtra': 'Mumbai', 'Telangana': 'Hyderabad'}\n"
     ]
    }
   ],
   "source": [
    "print(stateCapitals)"
   ]
  },
  {
   "cell_type": "code",
   "execution_count": 11,
   "metadata": {},
   "outputs": [
    {
     "name": "stdout",
     "output_type": "stream",
     "text": [
      "dict_values(['Mumbai', 'Hyderabad'])\n"
     ]
    }
   ],
   "source": [
    "print(stateCapitals.values())"
   ]
  },
  {
   "cell_type": "code",
   "execution_count": 12,
   "metadata": {},
   "outputs": [
    {
     "name": "stdout",
     "output_type": "stream",
     "text": [
      "{'Maharashtra': 'Mumbai', 'Telangana': 'Hyderabad', 'Karnataka': 'Banglore'}\n"
     ]
    }
   ],
   "source": [
    "stateCapitals1={'Karnataka':'Banglore'}\n",
    "stateCapitals.update(stateCapitals1)\n",
    "print(stateCapitals)"
   ]
  },
  {
   "cell_type": "code",
   "execution_count": 13,
   "metadata": {},
   "outputs": [
    {
     "name": "stdout",
     "output_type": "stream",
     "text": [
      "{'Maharashtra': None, 'Telangana': None, 'Karnataka': None}\n"
     ]
    }
   ],
   "source": [
    "x=dict.fromkeys(stateCapitals)\n",
    "print(x)"
   ]
  },
  {
   "cell_type": "code",
   "execution_count": 15,
   "metadata": {},
   "outputs": [
    {
     "name": "stdout",
     "output_type": "stream",
     "text": [
      "{'Maharashtra': 'India', 'Telangana': 'India', 'Karnataka': 'India'}\n"
     ]
    }
   ],
   "source": [
    "x=dict.fromkeys(stateCapitals, value)\n",
    "value='India'\n",
    "print(x)"
   ]
  },
  {
   "cell_type": "code",
   "execution_count": 16,
   "metadata": {},
   "outputs": [
    {
     "name": "stdout",
     "output_type": "stream",
     "text": [
      "{}\n"
     ]
    }
   ],
   "source": [
    "stateCapitals.clear()\n",
    "print(stateCapitals)"
   ]
  },
  {
   "cell_type": "code",
   "execution_count": null,
   "metadata": {},
   "outputs": [],
   "source": []
  }
 ],
 "metadata": {
  "kernelspec": {
   "display_name": "Python 3",
   "language": "python",
   "name": "python3"
  },
  "language_info": {
   "codemirror_mode": {
    "name": "ipython",
    "version": 3
   },
   "file_extension": ".py",
   "mimetype": "text/x-python",
   "name": "python",
   "nbconvert_exporter": "python",
   "pygments_lexer": "ipython3",
   "version": "3.6.8"
  }
 },
 "nbformat": 4,
 "nbformat_minor": 2
}
