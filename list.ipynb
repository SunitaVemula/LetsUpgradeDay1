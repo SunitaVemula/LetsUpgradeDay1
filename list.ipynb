{
 "cells": [
  {
   "cell_type": "markdown",
   "metadata": {},
   "source": [
    "# List and its default functions"
   ]
  },
  {
   "cell_type": "code",
   "execution_count": 1,
   "metadata": {},
   "outputs": [],
   "source": [
    "list_of_ones=[1,'one', 1.0]"
   ]
  },
  {
   "cell_type": "code",
   "execution_count": 2,
   "metadata": {},
   "outputs": [
    {
     "name": "stdout",
     "output_type": "stream",
     "text": [
      "[1, 'one', 1.0]\n"
     ]
    }
   ],
   "source": [
    "print(list_of_ones)"
   ]
  },
  {
   "cell_type": "code",
   "execution_count": 3,
   "metadata": {},
   "outputs": [
    {
     "name": "stdout",
     "output_type": "stream",
     "text": [
      "['java', 'python', 'c', 'cpp']\n"
     ]
    }
   ],
   "source": [
    "list_of_languages=['java','python','c','cpp']\n",
    "print(list_of_languages)"
   ]
  },
  {
   "cell_type": "code",
   "execution_count": 5,
   "metadata": {},
   "outputs": [
    {
     "name": "stdout",
     "output_type": "stream",
     "text": [
      "['java', 'python', 'c', 'cpp', 'ruby']\n"
     ]
    }
   ],
   "source": [
    "list_of_languages.insert(4,'ruby')\n",
    "print(list_of_languages)"
   ]
  },
  {
   "cell_type": "code",
   "execution_count": 6,
   "metadata": {},
   "outputs": [
    {
     "name": "stdout",
     "output_type": "stream",
     "text": [
      "['java', 'python', 'c', 'cpp', 'ruby', '.Net']\n"
     ]
    }
   ],
   "source": [
    "list_of_languages.append('.Net')\n",
    "print(list_of_languages)"
   ]
  },
  {
   "cell_type": "code",
   "execution_count": 8,
   "metadata": {},
   "outputs": [
    {
     "name": "stdout",
     "output_type": "stream",
     "text": [
      "1\n"
     ]
    }
   ],
   "source": [
    "count=list_of_languages.count('java')\n",
    "print(count)"
   ]
  },
  {
   "cell_type": "code",
   "execution_count": 9,
   "metadata": {},
   "outputs": [
    {
     "name": "stdout",
     "output_type": "stream",
     "text": [
      "4\n"
     ]
    }
   ],
   "source": [
    "index=list_of_languages.index('ruby')\n",
    "print(index)"
   ]
  },
  {
   "cell_type": "code",
   "execution_count": 10,
   "metadata": {},
   "outputs": [
    {
     "name": "stdout",
     "output_type": "stream",
     "text": [
      "Old list: ['java', 'python', 'c', 'cpp', 'ruby', '.Net']\n",
      "New list: ['java', 'python', 'c', 'cpp', 'ruby', '.Net', 'scala']\n"
     ]
    }
   ],
   "source": [
    "new_list=list_of_languages.copy()\n",
    "new_list.append('scala')\n",
    "print('Old list:', list_of_languages)\n",
    "print('New list:',new_list)"
   ]
  },
  {
   "cell_type": "code",
   "execution_count": 11,
   "metadata": {},
   "outputs": [
    {
     "name": "stdout",
     "output_type": "stream",
     "text": [
      "['java', 'python', 'c', 'cpp', 'ruby', '.Net', 'english', 'hindi', 'telugu', 'marathi']\n"
     ]
    }
   ],
   "source": [
    "list_of_languages1=['english','hindi','telugu','marathi']\n",
    "list_of_languages.extend(list_of_languages1)\n",
    "print(list_of_languages)"
   ]
  },
  {
   "cell_type": "code",
   "execution_count": 14,
   "metadata": {},
   "outputs": [
    {
     "name": "stdout",
     "output_type": "stream",
     "text": [
      "['java', 'python', 'c', 'cpp', 'ruby', '.Net', 'telugu', 'marathi']\n"
     ]
    }
   ],
   "source": [
    "list_of_languages.pop(6)\n",
    "print(list_of_languages)"
   ]
  },
  {
   "cell_type": "code",
   "execution_count": 16,
   "metadata": {},
   "outputs": [
    {
     "name": "stdout",
     "output_type": "stream",
     "text": [
      "['java', 'python', 'c', 'cpp', 'ruby', '.Net']\n"
     ]
    }
   ],
   "source": [
    "list_of_languages.pop(6)\n",
    "print(list_of_languages)"
   ]
  },
  {
   "cell_type": "code",
   "execution_count": 17,
   "metadata": {},
   "outputs": [
    {
     "name": "stdout",
     "output_type": "stream",
     "text": [
      "['java', 'python', 'c', 'cpp', 'ruby']\n"
     ]
    }
   ],
   "source": [
    "list_of_languages.remove('.Net')\n",
    "print(list_of_languages)"
   ]
  },
  {
   "cell_type": "code",
   "execution_count": 20,
   "metadata": {},
   "outputs": [
    {
     "name": "stdout",
     "output_type": "stream",
     "text": [
      "['ruby', 'cpp', 'c', 'python', 'java']\n"
     ]
    }
   ],
   "source": [
    "list_of_languages.reverse()\n",
    "print(list_of_languages)"
   ]
  },
  {
   "cell_type": "code",
   "execution_count": 21,
   "metadata": {},
   "outputs": [
    {
     "name": "stdout",
     "output_type": "stream",
     "text": [
      "[]\n"
     ]
    }
   ],
   "source": [
    "list_of_languages.clear()\n",
    "print(list_of_languages)"
   ]
  },
  {
   "cell_type": "code",
   "execution_count": null,
   "metadata": {},
   "outputs": [],
   "source": []
  }
 ],
 "metadata": {
  "kernelspec": {
   "display_name": "Python 3",
   "language": "python",
   "name": "python3"
  },
  "language_info": {
   "codemirror_mode": {
    "name": "ipython",
    "version": 3
   },
   "file_extension": ".py",
   "mimetype": "text/x-python",
   "name": "python",
   "nbconvert_exporter": "python",
   "pygments_lexer": "ipython3",
   "version": "3.6.8"
  }
 },
 "nbformat": 4,
 "nbformat_minor": 2
}
